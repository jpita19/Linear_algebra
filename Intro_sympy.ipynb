{
 "cells": [
  {
   "cell_type": "markdown",
   "id": "ef5b6003",
   "metadata": {},
   "source": [
    "# Introducción a Sympy"
   ]
  },
  {
   "cell_type": "markdown",
   "id": "7776709a",
   "metadata": {},
   "source": [
    "## Cargue de Librería"
   ]
  },
  {
   "cell_type": "code",
   "execution_count": 3,
   "id": "3570021f",
   "metadata": {},
   "outputs": [],
   "source": [
    "#Carga de Libreria\n",
    "import sympy as sp\n",
    "import matplotlib.pyplot as plt"
   ]
  },
  {
   "cell_type": "markdown",
   "id": "5b99b4bc",
   "metadata": {},
   "source": [
    "## Creación de un Simbolos"
   ]
  },
  {
   "cell_type": "code",
   "execution_count": 4,
   "id": "6e295f96",
   "metadata": {},
   "outputs": [
    {
     "data": {
      "text/latex": [
       "$\\displaystyle 2 x$"
      ],
      "text/plain": [
       "2*x"
      ]
     },
     "execution_count": 4,
     "metadata": {},
     "output_type": "execute_result"
    }
   ],
   "source": [
    "#Como cargar un simbolo\n",
    "x=sp.Symbol('x')\n",
    "2*x"
   ]
  },
  {
   "cell_type": "markdown",
   "id": "51edfa55",
   "metadata": {},
   "source": [
    "## Crear una matriz"
   ]
  },
  {
   "cell_type": "code",
   "execution_count": 5,
   "id": "0d71f429",
   "metadata": {},
   "outputs": [
    {
     "data": {
      "text/latex": [
       "$\\displaystyle \\left[\\begin{matrix}1 & 2 & 3\\\\4 & 5 & 6\\\\7 & 8 & 9\\end{matrix}\\right]$"
      ],
      "text/plain": [
       "Matrix([\n",
       "[1, 2, 3],\n",
       "[4, 5, 6],\n",
       "[7, 8, 9]])"
      ]
     },
     "execution_count": 5,
     "metadata": {},
     "output_type": "execute_result"
    }
   ],
   "source": [
    "#Cargar una matriz\n",
    "M=sp.Matrix([[1,2,3],[4,5,6],[7,8,9]])\n",
    "M"
   ]
  },
  {
   "cell_type": "markdown",
   "id": "7fbb1acd",
   "metadata": {},
   "source": [
    "### Acceder a los elementos de una matriz"
   ]
  },
  {
   "cell_type": "code",
   "execution_count": 6,
   "id": "1f1b9fd0",
   "metadata": {},
   "outputs": [
    {
     "data": {
      "text/latex": [
       "$\\displaystyle 3$"
      ],
      "text/plain": [
       "3"
      ]
     },
     "execution_count": 6,
     "metadata": {},
     "output_type": "execute_result"
    }
   ],
   "source": [
    "M[0,2]"
   ]
  },
  {
   "cell_type": "code",
   "execution_count": 7,
   "id": "515d00da",
   "metadata": {},
   "outputs": [
    {
     "data": {
      "text/latex": [
       "$\\displaystyle \\left[\\begin{matrix}1 & 0 & 0\\\\0 & 1 & 0\\\\0 & 0 & 1\\end{matrix}\\right]$"
      ],
      "text/plain": [
       "Matrix([\n",
       "[1, 0, 0],\n",
       "[0, 1, 0],\n",
       "[0, 0, 1]])"
      ]
     },
     "execution_count": 7,
     "metadata": {},
     "output_type": "execute_result"
    }
   ],
   "source": [
    "#Matriz identidad\n",
    "Iden3=sp.eye(3)\n",
    "Iden3"
   ]
  },
  {
   "cell_type": "markdown",
   "id": "c96657a0",
   "metadata": {},
   "source": [
    "### Renglones en matrices\n"
   ]
  },
  {
   "cell_type": "code",
   "execution_count": 8,
   "id": "ffeeb94e",
   "metadata": {},
   "outputs": [
    {
     "data": {
      "text/latex": [
       "$\\displaystyle \\left[\\begin{matrix}1 & 2 & 3\\end{matrix}\\right]$"
      ],
      "text/plain": [
       "Matrix([[1, 2, 3]])"
      ]
     },
     "execution_count": 8,
     "metadata": {},
     "output_type": "execute_result"
    }
   ],
   "source": [
    "#Metodo 1\n",
    "M.row(0)"
   ]
  },
  {
   "cell_type": "code",
   "execution_count": 9,
   "id": "95b438c3",
   "metadata": {},
   "outputs": [
    {
     "data": {
      "text/latex": [
       "$\\displaystyle \\left[\\begin{matrix}1 & 2 & 3\\end{matrix}\\right]$"
      ],
      "text/plain": [
       "Matrix([[1, 2, 3]])"
      ]
     },
     "execution_count": 9,
     "metadata": {},
     "output_type": "execute_result"
    }
   ],
   "source": [
    "#Metodo 2\n",
    "M[0,:]"
   ]
  },
  {
   "cell_type": "code",
   "execution_count": 10,
   "id": "1413d09c",
   "metadata": {},
   "outputs": [
    {
     "data": {
      "text/latex": [
       "$\\displaystyle \\left[\\begin{matrix}1 & 2 & 3\\\\0 & -3 & -6\\\\7 & 8 & 9\\end{matrix}\\right]$"
      ],
      "text/plain": [
       "Matrix([\n",
       "[1,  2,  3],\n",
       "[0, -3, -6],\n",
       "[7,  8,  9]])"
      ]
     },
     "execution_count": 10,
     "metadata": {},
     "output_type": "execute_result"
    }
   ],
   "source": [
    "#Operaciones con renglones\n",
    "NM=M.elementary_row_op('n->n+km', row=1,k=-4, row2=0)\n",
    "NM"
   ]
  },
  {
   "cell_type": "markdown",
   "id": "1629ec62",
   "metadata": {},
   "source": [
    "### Operaciones Básicas con Matrices"
   ]
  },
  {
   "cell_type": "code",
   "execution_count": 11,
   "id": "e2796dec",
   "metadata": {},
   "outputs": [
    {
     "data": {
      "text/latex": [
       "$\\displaystyle \\left[\\begin{matrix}2 & 2 & 4\\\\4 & 6 & 6\\\\8 & 8 & 10\\end{matrix}\\right]$"
      ],
      "text/plain": [
       "Matrix([\n",
       "[2, 2,  4],\n",
       "[4, 6,  6],\n",
       "[8, 8, 10]])"
      ]
     },
     "execution_count": 11,
     "metadata": {},
     "output_type": "execute_result"
    }
   ],
   "source": [
    "#Operaciones básicas con matrices \n",
    "N=sp.Matrix([[1,0,1],[0,1,0],[1,0,1]])\n",
    "Suma=M+N\n",
    "Suma"
   ]
  },
  {
   "cell_type": "code",
   "execution_count": 12,
   "id": "0c4ae275",
   "metadata": {},
   "outputs": [
    {
     "data": {
      "text/latex": [
       "$\\displaystyle \\left[\\begin{matrix}0 & 2 & 2\\\\4 & 4 & 6\\\\6 & 8 & 8\\end{matrix}\\right]$"
      ],
      "text/plain": [
       "Matrix([\n",
       "[0, 2, 2],\n",
       "[4, 4, 6],\n",
       "[6, 8, 8]])"
      ]
     },
     "execution_count": 12,
     "metadata": {},
     "output_type": "execute_result"
    }
   ],
   "source": [
    "Resta=M-N\n",
    "Resta"
   ]
  },
  {
   "cell_type": "code",
   "execution_count": 13,
   "id": "f7795dec",
   "metadata": {},
   "outputs": [
    {
     "data": {
      "text/latex": [
       "$\\displaystyle \\left[\\begin{matrix}4 & 2 & 4\\\\10 & 5 & 10\\\\16 & 8 & 16\\end{matrix}\\right]$"
      ],
      "text/plain": [
       "Matrix([\n",
       "[ 4, 2,  4],\n",
       "[10, 5, 10],\n",
       "[16, 8, 16]])"
      ]
     },
     "execution_count": 13,
     "metadata": {},
     "output_type": "execute_result"
    }
   ],
   "source": [
    "producto=M*N\n",
    "producto"
   ]
  },
  {
   "cell_type": "code",
   "execution_count": 14,
   "id": "16eb4163",
   "metadata": {},
   "outputs": [
    {
     "data": {
      "text/latex": [
       "$\\displaystyle \\left[\\begin{matrix}4 & 2 & 4\\\\10 & 5 & 10\\\\16 & 8 & 16\\end{matrix}\\right]$"
      ],
      "text/plain": [
       "Matrix([\n",
       "[ 4, 2,  4],\n",
       "[10, 5, 10],\n",
       "[16, 8, 16]])"
      ]
     },
     "execution_count": 14,
     "metadata": {},
     "output_type": "execute_result"
    }
   ],
   "source": [
    "M@N"
   ]
  },
  {
   "cell_type": "code",
   "execution_count": 15,
   "id": "c2cff3e7",
   "metadata": {},
   "outputs": [
    {
     "data": {
      "text/latex": [
       "$\\displaystyle \\left[\\begin{matrix}1 & 4 & 7\\\\2 & 5 & 8\\\\3 & 6 & 9\\end{matrix}\\right]$"
      ],
      "text/plain": [
       "Matrix([\n",
       "[1, 4, 7],\n",
       "[2, 5, 8],\n",
       "[3, 6, 9]])"
      ]
     },
     "execution_count": 15,
     "metadata": {},
     "output_type": "execute_result"
    }
   ],
   "source": [
    "M.T"
   ]
  },
  {
   "cell_type": "code",
   "execution_count": 16,
   "id": "ee07fa6a",
   "metadata": {},
   "outputs": [
    {
     "data": {
      "text/latex": [
       "$\\displaystyle 0$"
      ],
      "text/plain": [
       "0"
      ]
     },
     "execution_count": 16,
     "metadata": {},
     "output_type": "execute_result"
    }
   ],
   "source": [
    "N.det()"
   ]
  },
  {
   "cell_type": "code",
   "execution_count": 17,
   "id": "e46e79b8",
   "metadata": {},
   "outputs": [],
   "source": [
    "A=sp.Matrix([[1,2],[1,-1]])"
   ]
  },
  {
   "cell_type": "code",
   "execution_count": 18,
   "id": "55348270",
   "metadata": {},
   "outputs": [
    {
     "data": {
      "text/latex": [
       "$\\displaystyle \\left[\\begin{matrix}\\frac{1}{3} & \\frac{2}{3}\\\\\\frac{1}{3} & - \\frac{1}{3}\\end{matrix}\\right]$"
      ],
      "text/plain": [
       "Matrix([\n",
       "[1/3,  2/3],\n",
       "[1/3, -1/3]])"
      ]
     },
     "execution_count": 18,
     "metadata": {},
     "output_type": "execute_result"
    }
   ],
   "source": [
    "#Inversa de una matriz\n",
    "A.inv()"
   ]
  },
  {
   "cell_type": "code",
   "execution_count": 19,
   "id": "a7facb74",
   "metadata": {},
   "outputs": [
    {
     "data": {
      "text/latex": [
       "$\\displaystyle \\left[\\begin{matrix}2\\\\3\\\\5\\\\6\\end{matrix}\\right]$"
      ],
      "text/plain": [
       "Matrix([\n",
       "[2],\n",
       "[3],\n",
       "[5],\n",
       "[6]])"
      ]
     },
     "execution_count": 19,
     "metadata": {},
     "output_type": "execute_result"
    }
   ],
   "source": [
    "#vectores\n",
    "B=sp.Matrix([2,3,5,6])\n",
    "B"
   ]
  },
  {
   "cell_type": "markdown",
   "id": "78725cef",
   "metadata": {},
   "source": [
    "##"
   ]
  },
  {
   "cell_type": "code",
   "execution_count": 20,
   "id": "11b672df",
   "metadata": {},
   "outputs": [
    {
     "data": {
      "text/latex": [
       "$\\displaystyle \\left[\\begin{matrix}2 & 3 & 5 & 6\\end{matrix}\\right]$"
      ],
      "text/plain": [
       "Matrix([[2, 3, 5, 6]])"
      ]
     },
     "execution_count": 20,
     "metadata": {},
     "output_type": "execute_result"
    }
   ],
   "source": [
    "B.T"
   ]
  },
  {
   "cell_type": "code",
   "execution_count": 21,
   "id": "86b636f4",
   "metadata": {},
   "outputs": [
    {
     "data": {
      "text/latex": [
       "$\\displaystyle \\left[\\begin{matrix}1\\\\-1\\\\1\\\\-1\\end{matrix}\\right]$"
      ],
      "text/plain": [
       "Matrix([\n",
       "[ 1],\n",
       "[-1],\n",
       "[ 1],\n",
       "[-1]])"
      ]
     },
     "execution_count": 21,
     "metadata": {},
     "output_type": "execute_result"
    }
   ],
   "source": [
    "A=sp.Matrix([1,-1,1,-1])\n",
    "A"
   ]
  },
  {
   "cell_type": "code",
   "execution_count": 22,
   "id": "250bb525",
   "metadata": {},
   "outputs": [
    {
     "data": {
      "text/latex": [
       "$\\displaystyle \\left[\\begin{matrix}-2\\end{matrix}\\right]$"
      ],
      "text/plain": [
       "Matrix([[-2]])"
      ]
     },
     "execution_count": 22,
     "metadata": {},
     "output_type": "execute_result"
    }
   ],
   "source": [
    "A.T@B"
   ]
  },
  {
   "cell_type": "code",
   "execution_count": 23,
   "id": "a2a659d4",
   "metadata": {},
   "outputs": [
    {
     "data": {
      "text/latex": [
       "$\\displaystyle -1$"
      ],
      "text/plain": [
       "-1"
      ]
     },
     "execution_count": 23,
     "metadata": {},
     "output_type": "execute_result"
    }
   ],
   "source": [
    "A[1]"
   ]
  },
  {
   "cell_type": "code",
   "execution_count": null,
   "id": "69b63de9",
   "metadata": {},
   "outputs": [],
   "source": []
  }
 ],
 "metadata": {
  "kernelspec": {
   "display_name": ".conda",
   "language": "python",
   "name": "python3"
  },
  "language_info": {
   "codemirror_mode": {
    "name": "ipython",
    "version": 3
   },
   "file_extension": ".py",
   "mimetype": "text/x-python",
   "name": "python",
   "nbconvert_exporter": "python",
   "pygments_lexer": "ipython3",
   "version": "3.11.13"
  }
 },
 "nbformat": 4,
 "nbformat_minor": 5
}
